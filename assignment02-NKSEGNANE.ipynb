{
 "cells": [
  {
   "cell_type": "markdown",
   "id": "88614df4",
   "metadata": {},
   "source": [
    "# Exercice 1 :"
   ]
  },
  {
   "cell_type": "code",
   "execution_count": 8,
   "id": "99224735",
   "metadata": {},
   "outputs": [
    {
     "data": {
      "text/plain": [
       "defined \u001b[32mfunction\u001b[39m \u001b[36mprefixe\u001b[39m"
      ]
     },
     "execution_count": 8,
     "metadata": {},
     "output_type": "execute_result"
    }
   ],
   "source": [
    "def prefixe(str: String): String => String = {\n",
    "  (chaine: String) => str + \" \" + chaine\n",
    "}"
   ]
  },
  {
   "cell_type": "code",
   "execution_count": 10,
   "id": "2544845a",
   "metadata": {},
   "outputs": [
    {
     "name": "stdout",
     "output_type": "stream",
     "text": [
      "Hello world\n",
      "Hello NKS\n"
     ]
    },
    {
     "data": {
      "text/plain": [
       "\u001b[36maddHello\u001b[39m: \u001b[32mString\u001b[39m => \u001b[32mString\u001b[39m = ammonite.$sess.cmd6$Helper$$Lambda$2344/0x00000008013e6278@213edebc"
      ]
     },
     "execution_count": 10,
     "metadata": {},
     "output_type": "execute_result"
    }
   ],
   "source": [
    "val addHello = prefix(\"Hello\")\n",
    "println(addHello(\"world\")) \n",
    "println(addHello(\"NKS\")) "
   ]
  },
  {
   "cell_type": "markdown",
   "id": "10027f3e",
   "metadata": {},
   "source": [
    "# Exercice 2"
   ]
  },
  {
   "cell_type": "code",
   "execution_count": 2,
   "id": "ab96de40",
   "metadata": {},
   "outputs": [
    {
     "data": {
      "text/plain": [
       "defined \u001b[32mfunction\u001b[39m \u001b[36mcontenirEntier\u001b[39m"
      ]
     },
     "execution_count": 2,
     "metadata": {},
     "output_type": "execute_result"
    }
   ],
   "source": [
    "def contenirEntier(entiers: List[Int]): Int => Boolean = {\n",
    "  (x: Int) => entiers.contains(x)\n",
    "}"
   ]
  },
  {
   "cell_type": "code",
   "execution_count": 6,
   "id": "02fac610",
   "metadata": {},
   "outputs": [
    {
     "name": "stdout",
     "output_type": "stream",
     "text": [
      "false\n",
      "true\n"
     ]
    },
    {
     "data": {
      "text/plain": [
       "\u001b[36mcontains\u001b[39m: \u001b[32mInt\u001b[39m => \u001b[32mBoolean\u001b[39m = ammonite.$sess.cmd1$Helper$$Lambda$2316/0x0000000801394a40@376d8c8d"
      ]
     },
     "execution_count": 6,
     "metadata": {},
     "output_type": "execute_result"
    }
   ],
   "source": [
    "val contains = contenirEntier(List(10, 5, 0, 21, 4))\n",
    "println(contains(3))\n",
    "println(contains(5))"
   ]
  },
  {
   "cell_type": "markdown",
   "id": "18e18454",
   "metadata": {},
   "source": [
    "# Exercice 3"
   ]
  },
  {
   "cell_type": "code",
   "execution_count": 1,
   "id": "185872a2",
   "metadata": {},
   "outputs": [
    {
     "data": {
      "text/plain": [
       "defined \u001b[32mfunction\u001b[39m \u001b[36mcontainsStrings\u001b[39m"
      ]
     },
     "execution_count": 1,
     "metadata": {},
     "output_type": "execute_result"
    }
   ],
   "source": [
    "def containsStrings(strings: List[String]): String => Boolean = {\n",
    "  (s: String) => strings.contains(s)\n",
    "}"
   ]
  },
  {
   "cell_type": "code",
   "execution_count": 4,
   "id": "90003d73",
   "metadata": {},
   "outputs": [
    {
     "name": "stdout",
     "output_type": "stream",
     "text": [
      "true\n",
      "false\n"
     ]
    },
    {
     "data": {
      "text/plain": [
       "\u001b[36mcontains\u001b[39m: \u001b[32mString\u001b[39m => \u001b[32mBoolean\u001b[39m = ammonite.$sess.cmd0$Helper$$Lambda$2109/0x00000008013cc420@150ff63f"
      ]
     },
     "execution_count": 4,
     "metadata": {},
     "output_type": "execute_result"
    }
   ],
   "source": [
    "val contains = containsStrings(List(\"Hello\", \"Python\", \"Scala\"))\n",
    "println(contains(\"Python\"))\n",
    "println(contains(\"Java\"))"
   ]
  },
  {
   "cell_type": "code",
   "execution_count": null,
   "id": "30bb0ca8",
   "metadata": {},
   "outputs": [],
   "source": []
  }
 ],
 "metadata": {
  "kernelspec": {
   "display_name": "Scala",
   "language": "scala",
   "name": "scala"
  },
  "language_info": {
   "codemirror_mode": "text/x-scala",
   "file_extension": ".sc",
   "mimetype": "text/x-scala",
   "name": "scala",
   "nbconvert_exporter": "script",
   "version": "2.12.11"
  }
 },
 "nbformat": 4,
 "nbformat_minor": 5
}
