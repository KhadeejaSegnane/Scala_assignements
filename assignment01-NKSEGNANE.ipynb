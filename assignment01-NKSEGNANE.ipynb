{
 "cells": [
  {
   "cell_type": "code",
   "execution_count": 4,
   "id": "dc34d894",
   "metadata": {},
   "outputs": [
    {
     "data": {
      "text/plain": [
       "defined \u001b[32mfunction\u001b[39m \u001b[36mpgcd\u001b[39m"
      ]
     },
     "execution_count": 4,
     "metadata": {},
     "output_type": "execute_result"
    }
   ],
   "source": [
    "//Créer une fonction 'pgcd' qui prend en input deux entier et return leur pgcd\n",
    "def pgcd(a: Int, b: Int): Int = {\n",
    "    if (b == 0) a\n",
    "    else pgcd(b, a % b)\n",
    "}"
   ]
  },
  {
   "cell_type": "code",
   "execution_count": 6,
   "id": "4dd28c7b",
   "metadata": {},
   "outputs": [
    {
     "name": "stdout",
     "output_type": "stream",
     "text": [
      "Le PGCD de 28 et 313 est 1\r\n"
     ]
    },
    {
     "data": {
      "text/plain": [
       "\u001b[36mnombre1\u001b[39m: \u001b[32mInt\u001b[39m = \u001b[32m28\u001b[39m\r\n",
       "\u001b[36mnombre2\u001b[39m: \u001b[32mInt\u001b[39m = \u001b[32m313\u001b[39m\r\n",
       "\u001b[36mPGCD\u001b[39m: \u001b[32mInt\u001b[39m = \u001b[32m1\u001b[39m"
      ]
     },
     "execution_count": 6,
     "metadata": {},
     "output_type": "execute_result"
    }
   ],
   "source": [
    "//Tester la fonction avec les couples (28, 313) et (63, 40)\n",
    "val nombre1 = 28\n",
    "val nombre2 = 313\n",
    "val PGCD = pgcd(nombre1, nombre2)\n",
    "println(\"Le PGCD de \" + nombre1 + \" et \" + nombre2 + \" est \" + PGCD)"
   ]
  },
  {
   "cell_type": "code",
   "execution_count": 7,
   "id": "a9ced8df",
   "metadata": {},
   "outputs": [
    {
     "name": "stdout",
     "output_type": "stream",
     "text": [
      "Le PGCD de 63 et 40 est 1\r\n"
     ]
    },
    {
     "data": {
      "text/plain": [
       "\u001b[36mnombre1\u001b[39m: \u001b[32mInt\u001b[39m = \u001b[32m63\u001b[39m\r\n",
       "\u001b[36mnombre2\u001b[39m: \u001b[32mInt\u001b[39m = \u001b[32m40\u001b[39m\r\n",
       "\u001b[36mPGCD\u001b[39m: \u001b[32mInt\u001b[39m = \u001b[32m1\u001b[39m"
      ]
     },
     "execution_count": 7,
     "metadata": {},
     "output_type": "execute_result"
    }
   ],
   "source": [
    "val nombre1 = 63\n",
    "val nombre2 = 40\n",
    "val PGCD = pgcd(nombre1, nombre2)\n",
    "println(\"Le PGCD de \" + nombre1 + \" et \" + nombre2 + \" est \" + PGCD)"
   ]
  },
  {
   "cell_type": "code",
   "execution_count": 10,
   "id": "214be38a",
   "metadata": {},
   "outputs": [
    {
     "data": {
      "text/plain": [
       "defined \u001b[32mfunction\u001b[39m \u001b[36mfibonacci\u001b[39m"
      ]
     },
     "execution_count": 10,
     "metadata": {},
     "output_type": "execute_result"
    }
   ],
   "source": [
    "//Créer de la fonction 'fibonacci'\n",
    "def fibonacci(n: Int): Int = {\n",
    "  if (n <= 1) {\n",
    "    n\n",
    "  } else {\n",
    "    fibonacci(n - 1) + fibonacci(n - 2)\n",
    "  }\n",
    "}"
   ]
  },
  {
   "cell_type": "code",
   "execution_count": null,
   "id": "cd534b8d",
   "metadata": {},
   "outputs": [
    {
     "name": "stdout",
     "output_type": "stream",
     "text": [
      "1\n",
      "317811\n",
      "102334155\n"
     ]
    }
   ],
   "source": [
    "//Test de la fonction avec les entiers 0, 1, 28, 40, 63 et 313\n",
    "println(fibonacci(1))\n",
    "println(fibonacci(28))\n",
    "println(fibonacci(40))\n",
    "println(fibonacci(63))\n",
    "println(fibonacci(313))"
   ]
  },
  {
   "cell_type": "code",
   "execution_count": null,
   "id": "5117e4fd",
   "metadata": {},
   "outputs": [],
   "source": []
  }
 ],
 "metadata": {
  "kernelspec": {
   "display_name": "Scala",
   "language": "scala",
   "name": "scala"
  },
  "language_info": {
   "codemirror_mode": "text/x-scala",
   "file_extension": ".sc",
   "mimetype": "text/x-scala",
   "name": "scala",
   "nbconvert_exporter": "script",
   "version": "2.12.11"
  }
 },
 "nbformat": 4,
 "nbformat_minor": 5
}
